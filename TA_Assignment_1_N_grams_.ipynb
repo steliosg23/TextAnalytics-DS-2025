{
  "nbformat": 4,
  "nbformat_minor": 0,
  "metadata": {
    "colab": {
      "provenance": [],
      "include_colab_link": true
    },
    "kernelspec": {
      "name": "python3",
      "display_name": "Python 3"
    },
    "language_info": {
      "name": "python"
    }
  },
  "cells": [
    {
      "cell_type": "markdown",
      "metadata": {
        "id": "view-in-github",
        "colab_type": "text"
      },
      "source": [
        "<a href=\"https://colab.research.google.com/github/steliosg23/TextAnalytics-DS-2025/blob/main/TA_Assignment_1_N_grams_.ipynb\" target=\"_parent\"><img src=\"https://colab.research.google.com/assets/colab-badge.svg\" alt=\"Open In Colab\"/></a>"
      ]
    },
    {
      "cell_type": "markdown",
      "source": [
        "# Exercise 3"
      ],
      "metadata": {
        "id": "dxxNYY4nYbGx"
      }
    },
    {
      "cell_type": "markdown",
      "source": [
        "(i) Implement a bigram and a trigram language model for sentences, using Laplace smoothing or optionally Kneser- Ney smoothing.\n",
        "\n",
        "In practice, n-gram language models\n",
        "compute the sum of the logarithms of the n-gram probabilities of each sequence, instead of\n",
        "their product and you should do the same.\n",
        "\n",
        "Assume that each sentence starts with the\n",
        "pseudo-token *start* (or two pseudo-tokens *start1*, *start2* for the trigram model) and\n",
        "ends with the pseudo-token *end*.\n",
        "\n",
        "Train your models on a training subset of a corpus. Include in the vocabulary\n",
        "only words that occur, e.g., at least 10 times in the training subset. Use the same vocabulary\n",
        "in the bigram and trigram models. Replace all out-of-vocabulary (OOV) words (in the\n",
        "training, development, test subsets) by a special token *UNK*.\n",
        "\n",
        "Alternatively, use BPEs instead of words (obtaining the BPE vocabulary from your training subset) to\n",
        "avoid unknown words."
      ],
      "metadata": {
        "id": "67WIft8qYgIn"
      }
    },
    {
      "cell_type": "code",
      "source": [
        "!pip install -U nltk"
      ],
      "metadata": {
        "id": "uSB6cg5JDprR",
        "colab": {
          "base_uri": "https://localhost:8080/"
        },
        "outputId": "410ddbbd-fb04-4e7a-aae3-49e90644fc0f"
      },
      "execution_count": 1,
      "outputs": [
        {
          "output_type": "stream",
          "name": "stdout",
          "text": [
            "Requirement already satisfied: nltk in /usr/local/lib/python3.11/dist-packages (3.9.1)\n",
            "Requirement already satisfied: click in /usr/local/lib/python3.11/dist-packages (from nltk) (8.1.8)\n",
            "Requirement already satisfied: joblib in /usr/local/lib/python3.11/dist-packages (from nltk) (1.4.2)\n",
            "Requirement already satisfied: regex>=2021.8.3 in /usr/local/lib/python3.11/dist-packages (from nltk) (2024.11.6)\n",
            "Requirement already satisfied: tqdm in /usr/local/lib/python3.11/dist-packages (from nltk) (4.67.1)\n"
          ]
        }
      ]
    },
    {
      "cell_type": "code",
      "execution_count": 2,
      "metadata": {
        "id": "cBeJGofPHRew",
        "colab": {
          "base_uri": "https://localhost:8080/"
        },
        "outputId": "6f2e3101-de90-46a8-efce-0588637c6189"
      },
      "outputs": [
        {
          "output_type": "stream",
          "name": "stderr",
          "text": [
            "[nltk_data] Downloading package punkt to /root/nltk_data...\n",
            "[nltk_data]   Package punkt is already up-to-date!\n",
            "[nltk_data] Downloading package punkt_tab to /root/nltk_data...\n",
            "[nltk_data]   Package punkt_tab is already up-to-date!\n"
          ]
        },
        {
          "output_type": "execute_result",
          "data": {
            "text/plain": [
              "True"
            ]
          },
          "metadata": {},
          "execution_count": 2
        }
      ],
      "source": [
        "import nltk\n",
        "nltk.download('punkt')\n",
        "nltk.download('punkt_tab')"
      ]
    },
    {
      "cell_type": "markdown",
      "source": [
        "## Downloading the Reuters corpus from NLTK library."
      ],
      "metadata": {
        "id": "ynjXqq3PKaNO"
      }
    },
    {
      "cell_type": "code",
      "source": [
        "nltk.download('reuters')"
      ],
      "metadata": {
        "colab": {
          "base_uri": "https://localhost:8080/"
        },
        "id": "t8S-A249MDcl",
        "outputId": "6f8749b3-7871-4894-c7fc-cc83d07b4307"
      },
      "execution_count": 3,
      "outputs": [
        {
          "output_type": "stream",
          "name": "stderr",
          "text": [
            "[nltk_data] Downloading package reuters to /root/nltk_data...\n",
            "[nltk_data]   Package reuters is already up-to-date!\n"
          ]
        },
        {
          "output_type": "execute_result",
          "data": {
            "text/plain": [
              "True"
            ]
          },
          "metadata": {},
          "execution_count": 3
        }
      ]
    },
    {
      "cell_type": "markdown",
      "source": [
        "### Importing Libraries"
      ],
      "metadata": {
        "id": "93-u3HU0XVnw"
      }
    },
    {
      "cell_type": "code",
      "source": [
        "import re\n",
        "import math\n",
        "import random\n",
        "import unicodedata\n",
        "import string\n",
        "from collections import Counter\n",
        "import numpy as np\n",
        "import pandas as pd\n",
        "import matplotlib.pyplot as plt\n",
        "import seaborn as sns"
      ],
      "metadata": {
        "id": "DA2r60PL2QLs"
      },
      "execution_count": 4,
      "outputs": []
    },
    {
      "cell_type": "markdown",
      "source": [
        "## Loading and Processing the Reuters Corpus\n",
        "\n",
        "### 1. Importing the Reuters Corpus\n",
        "We begin by importing the Reuters corpus from the `nltk` library:\n",
        "\n"
      ],
      "metadata": {
        "id": "9gNaYPUv_Hzt"
      }
    },
    {
      "cell_type": "code",
      "source": [
        "from nltk.corpus import reuters\n",
        "\n",
        "# Load the Reuters corpus\n",
        "reuters_corpus = reuters.fileids()\n",
        "\n",
        "# Print the first 10 files\n",
        "print(reuters_corpus[:10])\n"
      ],
      "metadata": {
        "colab": {
          "base_uri": "https://localhost:8080/"
        },
        "id": "OoTeMTMt5IMD",
        "outputId": "8909af54-900b-4b08-ea11-68a7814ce46d"
      },
      "execution_count": 5,
      "outputs": [
        {
          "output_type": "stream",
          "name": "stdout",
          "text": [
            "['test/14826', 'test/14828', 'test/14829', 'test/14832', 'test/14833', 'test/14839', 'test/14840', 'test/14841', 'test/14842', 'test/14843']\n"
          ]
        }
      ]
    },
    {
      "cell_type": "markdown",
      "source": [
        "### 2. Constructing the Final Corpus\n",
        "We then iterate through each file in the corpus, convert its text to lowercase, and append it to a string that will contain the entire corpus."
      ],
      "metadata": {
        "id": "vjHv4iqF_SpW"
      }
    },
    {
      "cell_type": "code",
      "source": [
        "# Initialize an empty string to store the final corpus\n",
        "final_corpus = ''\n",
        "\n",
        "# Loop through each file in the Reuters corpus\n",
        "for corpus in reuters_corpus:\n",
        "    # Load the raw text from the file\n",
        "    text = reuters.raw(fileids=corpus)\n",
        "\n",
        "    # Convert the text to lowercase\n",
        "    lower_text = text.lower()\n",
        "\n",
        "    # Add the lowercase text to the final corpus\n",
        "    final_corpus += lower_text\n",
        "\n",
        "# Print the total number of words in the final corpus\n",
        "print(len(final_corpus.split()))"
      ],
      "metadata": {
        "id": "2CWoIe8K1sO5",
        "colab": {
          "base_uri": "https://localhost:8080/"
        },
        "outputId": "8a128383-6db8-4e2e-9042-d951e0aba503"
      },
      "execution_count": 6,
      "outputs": [
        {
          "output_type": "stream",
          "name": "stdout",
          "text": [
            "1378305\n"
          ]
        }
      ]
    },
    {
      "cell_type": "markdown",
      "source": [
        "## Text Cleaning Function\n",
        "\n",
        "The `text_cleaning` function is designed to clean the input text by removing unwanted characters, keeping only words and sentence-ending punctuation marks (periods, question marks, exclamation points, and apostrophes). It also removes multiple spaces and newline characters."
      ],
      "metadata": {
        "id": "OiPgi8Ni2INy"
      }
    },
    {
      "cell_type": "code",
      "source": [
        "import re\n",
        "\n",
        "def text_cleaning(text):\n",
        "\n",
        "    # Remove all characters except letters (both uppercase and lowercase),\n",
        "    # sentence-ending characters (periods, question marks, exclamation marks),\n",
        "    # and apostrophes. Replace unwanted characters with a space.\n",
        "    corpus = re.sub(r'[^a-zA-Z.?!\\']', ' ', text)\n",
        "\n",
        "    # Remove all left square brackets '[' from the text\n",
        "    corpus = corpus.replace('[', '')\n",
        "\n",
        "    # Replace all right square brackets ']' with a period '.'\n",
        "    corpus = corpus.replace(']', '.')\n",
        "\n",
        "    # Remove specific special characters (like $, @, ^, &, *, (, ), €, :, etc.)\n",
        "    # by replacing them with a space.\n",
        "    corpus = re.sub(r'[[]/$@^&*()€:΄,]', ' ', corpus)\n",
        "\n",
        "    # Replace multiple consecutive spaces with a single space\n",
        "    corpus = re.sub(' +', ' ', corpus)\n",
        "\n",
        "    # Replace newline characters '\\n' with a space to maintain continuous text\n",
        "    corpus = corpus.replace('\\n', ' ')\n",
        "\n",
        "    # Return the cleaned text\n",
        "    return corpus\n"
      ],
      "metadata": {
        "id": "Mv1MESLf2Acy"
      },
      "execution_count": 7,
      "outputs": []
    },
    {
      "cell_type": "code",
      "source": [
        "# Print the first 150 characters of the corpus before cleaning\n",
        "print(f'Before Cleaning: {final_corpus[:150]}...\\n')\n",
        "\n",
        "# Clean the corpus\n",
        "final_corpus = text_cleaning(final_corpus)\n",
        "\n",
        "# Print the first 150 characters of the corpus after cleaning\n",
        "print(f'After Cleaning: {final_corpus[:150]}...')\n"
      ],
      "metadata": {
        "colab": {
          "base_uri": "https://localhost:8080/"
        },
        "id": "E_k7csJd2Xu4",
        "outputId": "22e136f6-9508-4e88-ab7c-957c778cd311"
      },
      "execution_count": 8,
      "outputs": [
        {
          "output_type": "stream",
          "name": "stdout",
          "text": [
            "Before Cleaning: asian exporters fear damage from u.s.-japan rift\n",
            "  mounting trade friction between the\n",
            "  u.s. and japan has raised fears among many of asia's exportin...\n",
            "\n"
          ]
        },
        {
          "output_type": "stream",
          "name": "stderr",
          "text": [
            "<ipython-input-7-582df6af6b3e>:18: FutureWarning: Possible nested set at position 1\n",
            "  corpus = re.sub(r'[[]/$@^&*()€:΄,]', ' ', corpus)\n"
          ]
        },
        {
          "output_type": "stream",
          "name": "stdout",
          "text": [
            "After Cleaning: asian exporters fear damage from u.s. japan rift mounting trade friction between the u.s. and japan has raised fears among many of asia's exporting na...\n"
          ]
        }
      ]
    },
    {
      "cell_type": "code",
      "source": [
        "import nltk\n",
        "\n",
        "def sentence_tokenization(text):\n",
        "    try:\n",
        "        # Tokenizes the input text into a list of sentences using NLTK's sent_tokenize\n",
        "        return nltk.sent_tokenize(text)\n",
        "    except Exception as e:\n",
        "        # Handle any errors that occur during sentence tokenization\n",
        "        print(f\"Error in tokenizing text: {e}\")\n",
        "        return []\n"
      ],
      "metadata": {
        "id": "-Ucm_F0P3Ets"
      },
      "execution_count": 9,
      "outputs": []
    },
    {
      "cell_type": "code",
      "source": [
        "sentence_list = sentence_tokenization(final_corpus)\n",
        "\n",
        "# Print the first three sentences of the corpus\n",
        "for i in range(10):\n",
        "    print(f\"Sentence {i+1}: {sentence_list[i]}\")\n"
      ],
      "metadata": {
        "colab": {
          "base_uri": "https://localhost:8080/"
        },
        "id": "cLE0FJ553H_R",
        "outputId": "d73e861f-b1d3-403b-d30c-bdbd09d4c049"
      },
      "execution_count": 10,
      "outputs": [
        {
          "output_type": "stream",
          "name": "stdout",
          "text": [
            "Sentence 1: asian exporters fear damage from u.s. japan rift mounting trade friction between the u.s. and japan has raised fears among many of asia's exporting nations that the row could inflict far reaching economic damage businessmen and officials said.\n",
            "Sentence 2: they told reuter correspondents in asian capitals a u.s. move against japan might boost protectionist sentiment in the u.s. and lead to curbs on american imports of their products.\n",
            "Sentence 3: but some exporters said that while the conflict would hurt them in the long run in the short term tokyo's loss might be their gain.\n",
            "Sentence 4: the u.s. has said it will impose mln dlrs of tariffs on imports of japanese electronics goods on april in retaliation for japan's alleged failure to stick to a pact not to sell semiconductors on world markets at below cost.\n",
            "Sentence 5: unofficial japanese estimates put the impact of the tariffs at billion dlrs and spokesmen for major electronics firms said they would virtually halt exports of products hit by the new taxes.\n",
            "Sentence 6: we wouldn't be able to do business said a spokesman for leading japanese electronics firm matsushita electric industrial co ltd lt mc.t .\n",
            "Sentence 7: if the tariffs remain in place for any length of time beyond a few months it will mean the complete erosion of exports of goods subject to tariffs to the u.s. said tom murtha a stock analyst at the tokyo office of broker lt james capel and co .\n",
            "Sentence 8: in taiwan businessmen and officials are also worried.\n",
            "Sentence 9: we are aware of the seriousness of the u.s. threat against japan because it serves as a warning to us said a senior taiwanese trade official who asked not to be named.\n",
            "Sentence 10: taiwan had a trade trade surplus of .\n"
          ]
        }
      ]
    },
    {
      "cell_type": "markdown",
      "source": [
        "## Word Tokenization Function\n",
        "\n",
        "The `word_tokenization` function takes an input text and tokenizes it into a list of words using the NLTK library's `word_tokenize` function. It also handles any exceptions that may occur during the tokenization process."
      ],
      "metadata": {
        "id": "uNJLOfcdCo9i"
      }
    },
    {
      "cell_type": "code",
      "source": [
        "import nltk\n",
        "\n",
        "def word_tokenization(text):\n",
        "  # Tokenizes the input text into a list of words using NLTK's word_tokenize\n",
        "  return nltk.word_tokenize(text)"
      ],
      "metadata": {
        "id": "9vpHoyD0CY0M"
      },
      "execution_count": 11,
      "outputs": []
    },
    {
      "cell_type": "code",
      "source": [
        "# Apply word_tokenization for each sentence in the sentence list\n",
        "words_in_sentences = [word_tokenization(sentence) for sentence in sentence_list]\n",
        "\n",
        "# Print words for the first three sentences in the corpus\n",
        "for i in range(10):\n",
        "    print(f\"Sentence {i+1}: {words_in_sentences[i]}\")\n"
      ],
      "metadata": {
        "colab": {
          "base_uri": "https://localhost:8080/"
        },
        "id": "i-0JT0c1CYxo",
        "outputId": "5017e2ab-221b-4d3f-ca94-a457831dc15a"
      },
      "execution_count": 12,
      "outputs": [
        {
          "output_type": "stream",
          "name": "stdout",
          "text": [
            "Sentence 1: ['asian', 'exporters', 'fear', 'damage', 'from', 'u.s.', 'japan', 'rift', 'mounting', 'trade', 'friction', 'between', 'the', 'u.s.', 'and', 'japan', 'has', 'raised', 'fears', 'among', 'many', 'of', 'asia', \"'s\", 'exporting', 'nations', 'that', 'the', 'row', 'could', 'inflict', 'far', 'reaching', 'economic', 'damage', 'businessmen', 'and', 'officials', 'said', '.']\n",
            "Sentence 2: ['they', 'told', 'reuter', 'correspondents', 'in', 'asian', 'capitals', 'a', 'u.s.', 'move', 'against', 'japan', 'might', 'boost', 'protectionist', 'sentiment', 'in', 'the', 'u.s.', 'and', 'lead', 'to', 'curbs', 'on', 'american', 'imports', 'of', 'their', 'products', '.']\n",
            "Sentence 3: ['but', 'some', 'exporters', 'said', 'that', 'while', 'the', 'conflict', 'would', 'hurt', 'them', 'in', 'the', 'long', 'run', 'in', 'the', 'short', 'term', 'tokyo', \"'s\", 'loss', 'might', 'be', 'their', 'gain', '.']\n",
            "Sentence 4: ['the', 'u.s.', 'has', 'said', 'it', 'will', 'impose', 'mln', 'dlrs', 'of', 'tariffs', 'on', 'imports', 'of', 'japanese', 'electronics', 'goods', 'on', 'april', 'in', 'retaliation', 'for', 'japan', \"'s\", 'alleged', 'failure', 'to', 'stick', 'to', 'a', 'pact', 'not', 'to', 'sell', 'semiconductors', 'on', 'world', 'markets', 'at', 'below', 'cost', '.']\n",
            "Sentence 5: ['unofficial', 'japanese', 'estimates', 'put', 'the', 'impact', 'of', 'the', 'tariffs', 'at', 'billion', 'dlrs', 'and', 'spokesmen', 'for', 'major', 'electronics', 'firms', 'said', 'they', 'would', 'virtually', 'halt', 'exports', 'of', 'products', 'hit', 'by', 'the', 'new', 'taxes', '.']\n",
            "Sentence 6: ['we', 'would', \"n't\", 'be', 'able', 'to', 'do', 'business', 'said', 'a', 'spokesman', 'for', 'leading', 'japanese', 'electronics', 'firm', 'matsushita', 'electric', 'industrial', 'co', 'ltd', 'lt', 'mc.t', '.']\n",
            "Sentence 7: ['if', 'the', 'tariffs', 'remain', 'in', 'place', 'for', 'any', 'length', 'of', 'time', 'beyond', 'a', 'few', 'months', 'it', 'will', 'mean', 'the', 'complete', 'erosion', 'of', 'exports', 'of', 'goods', 'subject', 'to', 'tariffs', 'to', 'the', 'u.s.', 'said', 'tom', 'murtha', 'a', 'stock', 'analyst', 'at', 'the', 'tokyo', 'office', 'of', 'broker', 'lt', 'james', 'capel', 'and', 'co', '.']\n",
            "Sentence 8: ['in', 'taiwan', 'businessmen', 'and', 'officials', 'are', 'also', 'worried', '.']\n",
            "Sentence 9: ['we', 'are', 'aware', 'of', 'the', 'seriousness', 'of', 'the', 'u.s.', 'threat', 'against', 'japan', 'because', 'it', 'serves', 'as', 'a', 'warning', 'to', 'us', 'said', 'a', 'senior', 'taiwanese', 'trade', 'official', 'who', 'asked', 'not', 'to', 'be', 'named', '.']\n",
            "Sentence 10: ['taiwan', 'had', 'a', 'trade', 'trade', 'surplus', 'of', '.']\n"
          ]
        }
      ]
    },
    {
      "cell_type": "markdown",
      "source": [
        "## Data Splitting Process\n",
        "\n",
        "In this process, the corpus is split into three subsets: `train_corpus`, `dev_corpus`, and `test_corpus`. This is a common practice in machine learning for training, development, and testing models.\n",
        "\n",
        "### Steps:\n",
        "1. **Set Random Seed for Reproducibility:**\n",
        "   The random seed is set to ensure that the splitting process is reproducible. This means that every time the code runs, the same splits will occur, providing consistency in results.\n",
        "\n",
        "2. **Initial Split into Train and Temporary Corpus:**\n",
        "   The corpus is first split into two sets: the `train_corpus` and a `temp_corpus` which contains 20% of the data. The remaining 80% is used for training. This ensures that a portion of the data is available for training the model.\n",
        "\n",
        "3. **Further Split the Temporary Corpus into Dev and Test Sets:**\n",
        "   The `temp_corpus` (which is 40% of the original corpus) is further split evenly into two parts: the `dev_corpus` (development set) and the `test_corpus` (test set). Each of these subsets will contain 20% of the original corpus. The dev set is used for model tuning, and the test set is kept for evaluating the model's final performance.\n",
        "\n",
        "4. **Resulting Subsets:**\n",
        "   After the splits, you have:\n",
        "   - `train_corpus` containing 80% of the data used for training.\n",
        "   - `dev_corpus` containing 10% of the data used for validation and hyperparameter tuning.\n",
        "   - `test_corpus` containing 10% of the data used for final testing.\n",
        "\n",
        "This splitting process helps in ensuring that the model is trained, validated, and tested on separate data sets to avoid overfitting and ensure robust evaluation.\n"
      ],
      "metadata": {
        "id": "US0LBv6VETXs"
      }
    },
    {
      "cell_type": "code",
      "source": [
        "from sklearn.model_selection import train_test_split\n",
        "\n",
        "# Shuffle and split the corpus into train, dev, and test sets\n",
        "train_corpus, temp_corpus = train_test_split(words_in_sentences, test_size=0.2, random_state=2025)\n",
        "\n",
        "# Further split temp_corpus into dev and test sets\n",
        "dev_corpus, test_corpus = train_test_split(temp_corpus, test_size=0.5, random_state=2025)\n",
        "\n"
      ],
      "metadata": {
        "id": "mf9M8a3xEqp4"
      },
      "execution_count": 13,
      "outputs": []
    },
    {
      "cell_type": "code",
      "source": [
        "# Print a sample of each set\n",
        "print(\"Sample from Training Set:\")\n",
        "print(train_corpus[:3])  # Printing the first 3 samples from the training set\n",
        "\n",
        "print(\"\\nSample from Development Set:\")\n",
        "print(dev_corpus[:3])  # Printing the first 3 samples from the development set\n",
        "\n",
        "print(\"\\nSample from Test Set:\")\n",
        "print(test_corpus[:3])  # Printing the first 3 samples from the test set\n"
      ],
      "metadata": {
        "colab": {
          "base_uri": "https://localhost:8080/"
        },
        "id": "-1k3j5XRFAzf",
        "outputId": "779670e9-460c-45cb-f0e9-8bbf51170907"
      },
      "execution_count": 14,
      "outputs": [
        {
          "output_type": "stream",
          "name": "stdout",
          "text": [
            "Sample from Training Set:\n",
            "[['the', 'market', 'now', 'looks', 'set', 'sooner', 'or', 'later', 'to', 'push', 'the', 'dollar', 'down', 'further', 'in', 'a', 'test', 'of', 'the', 'willingness', 'of', 'central', 'banks', 'to', 'intervene', '.'], ['congressional', 'observers', 'say', 'the', 'bills', 'are', 'aimed', 'mainly', 'at', 'japan', 'taiwan', 'south', 'korea', 'and', 'a', 'few', 'other', 'nations', 'with', 'large', 'annual', 'trade', 'surpluses', 'with', 'the', 'united', 'states', '.'], ['gary', 'miller', 'chief', 'financial', 'officer', 'of', 'afg', 'said', 'his', 'company', 'has', 'a', 'record', 'of', 'acquiring', 'mature', 'businesses', 'and', 'boosting', 'productivity', '.']]\n",
            "\n",
            "Sample from Development Set:\n",
            "[['mln', 'dlrs', '.'], ['mln', 'vs', '.'], ['roderick', 'proposed', 'that', 'tender', 'offers', 'must', 'be', 'made', 'for', 'all', 'cash', 'to', 'all', 'stockholders', 'on', 'equal', 'terms', 'and', 'that', 'raiders', 'be', 'required', 'to', 'have', 'financing', 'in', 'place', 'before', 'a', 'tender', 'is', 'made', '.']]\n",
            "\n",
            "Sample from Test Set:\n",
            "[['wildlife', 'unit', 'proposes', 'alaska', 'refuge', 'oil', 'study', 'the', 'national', 'wildlife', 'federation', 'rejected', 'an', 'interior', 'department', 'draft', 'plan', 'to', 'open', 'wilderness', 'lands', 'in', 'northern', 'alaska', 'to', 'oil', 'and', 'gas', 'exploration', '.'], ['but', 'the', 'report', 'said', 'the', 'growth', 'rate', 'of', 'malaysia', \"'s\", 'external', 'debt', 'remains', 'worrying', 'and', 'should', 'be', 'controlled', '.'], ['a', 'fall', 'in', 'short', 'rates', 'would', 'make', 'the', 'public', 'aware', 'of', 'the', 'high', 'yields', 'in', 'bonds', 'and', 'lead', 'to', 'a', 'longer', 'term', 'capital', 'formation', 'braking', 'the', 'expansion', 'of', 'money', 'supply', '.']]\n"
          ]
        }
      ]
    },
    {
      "cell_type": "code",
      "source": [
        "import math\n",
        "from collections import Counter\n",
        "from nltk.util import ngrams\n",
        "from tqdm import tqdm\n",
        "\n",
        "from collections import Counter\n",
        "from nltk.util import ngrams\n",
        "from tqdm import tqdm\n",
        "\n",
        "\n",
        "def calc_ngrams(corpus, n):\n",
        "    \"\"\" Returns a Counter for n-grams (unigrams, bigrams, trigrams) without smoothing and log-probabilities.\n",
        "        Skips start tokens in probability calculation but includes end tokens. \"\"\"\n",
        "    ngram_counter = Counter()\n",
        "\n",
        "    # Generate n-grams for each sentence with a progress bar\n",
        "    for sentence in tqdm(corpus, desc=f\"Processing {n}-grams\", unit=\"sentence\"):\n",
        "        # Add the start and end tokens to the sentence\n",
        "        if n == 3:\n",
        "            # For trigrams, use two start tokens (\"<s1>\", \"<s2>\")\n",
        "            sentence_ngrams = list(ngrams(sentence, n, pad_left=True, pad_right=True, left_pad_symbol='<s1>', right_pad_symbol='<e>'))\n",
        "            # Replace the first two padding symbols for trigrams (<s1>, <s1>) with (<s1>, <s2>)\n",
        "            sentence_ngrams = [(('<s1>', '<s2>') if gram[:2] == ('<s1>', '<s1>') else gram) for gram in sentence_ngrams]\n",
        "        else:\n",
        "            # For other n-grams, use a single start token (\"<s>\")\n",
        "            sentence_ngrams = list(ngrams(sentence, n, pad_left=True, pad_right=True, left_pad_symbol='<s>', right_pad_symbol='<e>'))\n",
        "\n",
        "        # Update the counter with the generated n-grams, excluding start tokens in probability calculations\n",
        "        ngram_counter.update(gram for gram in sentence_ngrams if not any(tok.startswith('<s') for tok in gram))\n",
        "\n",
        "    # Return the n-gram counts without smoothing or log-probabilities\n",
        "    return ngram_counter\n",
        "\n",
        "def calc_unigrams(corpus):\n",
        "    # Returns a Unigram Counter with Kneser-Ney smoothing.\n",
        "    unigram_counter = Counter()\n",
        "    for sentence in corpus:\n",
        "        unigram_counter.update(ngrams(sentence, 1, pad_left=True, pad_right=True, left_pad_symbol='<s>', right_pad_symbol='<e>'))\n",
        "\n",
        "    # For unigrams, no smoothing is applied in Kneser-Ney (this is typically for bigrams or higher)\n",
        "    return unigram_counter\n",
        "\n",
        "def calc_bigrams(corpus):\n",
        "    # Returns a Bigram Counter with Kneser-Ney smoothing.\n",
        "    return calc_ngrams(corpus, 2)\n",
        "\n",
        "def calc_trigrams(corpus):\n",
        "    # Returns a Trigram Counter with Kneser-Ney smoothing.\n",
        "    return calc_ngrams(corpus, 3)\n"
      ],
      "metadata": {
        "id": "pan4O_M3F9FP"
      },
      "execution_count": 15,
      "outputs": []
    },
    {
      "cell_type": "markdown",
      "source": [
        "- **pad_left=True**: This ensures that padding is added to the left side of the sentence, allowing the model to account for sentence boundaries at the start. It helps form n-grams that include special start tokens, such as `<s>` for unigrams or `<s1>` and `<s2>` for trigrams.\n",
        "\n",
        "- **pad_right=True**: This ensures that padding is added to the right side of the sentence, marking the end of a sentence with a special token, `<e>`.\n",
        "\n",
        "- **left_pad_symbol=`<s>` and left_pad_symbol=`<s>`**: The symbols added at the left boundary of the sentence. For unigrams and bigrams, we use `<s>` as the start token. For trigrams, we use `<s1>` and `<s2>` to handle the special trigram boundary.\n",
        "\n",
        "- **right_pad_symbol=`<e>`**: The symbol added at the right boundary of the sentence to signify the end of a sentence.\n"
      ],
      "metadata": {
        "id": "kq9N_TB7mvIn"
      }
    },
    {
      "cell_type": "markdown",
      "source": [
        "## Replacing Out-of-Vocabulary (OOV) Words in Training Corpus\n",
        "\n",
        "The `replace_oov_words_train` function identifies and replaces out-of-vocabulary (OOV) words in a training corpus. It also creates a vocabulary by excluding the OOV words and returning them separately.\n",
        "\n",
        "### Steps:\n",
        "\n",
        "1. **Calculate Unigram Counts:**\n",
        "   - The function starts by calculating the unigram (single word) counts for the entire corpus using the `calc_unigrams` function. This gives the frequency of each word in the corpus.\n",
        "\n",
        "2. **Identify OOV Words:**\n",
        "   - OOV words are those whose frequency in the corpus is less than a predefined threshold (in this case, less than 10 occurrences).\n",
        "   - The function creates a dictionary where OOV words are mapped to the placeholder `'UNK'`.\n",
        "\n",
        "3. **Replace OOV Words in the Corpus:**\n",
        "   - The function processes each sentence in the corpus and replaces any OOV word with `'UNK'`. Words that are not OOV are left unchanged.\n",
        "\n",
        "4. **Create Vocabulary:**\n",
        "   - The vocabulary is created by including only those words from the unigram counts that are not considered OOV. The resulting vocabulary excludes the rare words that have been replaced with `'UNK'`.\n",
        "\n",
        "5. **Return Results:**\n",
        "   - The function returns:\n",
        "     - A dictionary of OOV words, where each OOV word is replaced by `'UNK'`.\n",
        "     - The cleaned corpus where OOV words have been replaced with `'UNK'`.\n",
        "     - The vocabulary, which contains all the words that are not considered OOV.\n",
        "\n",
        "### Purpose:\n",
        "The function is useful in preparing a training corpus for language models by replacing rare or unseen words (OOV) with a special token (`'UNK'`). This ensures that the model doesn't encounter issues when faced with words that were not present in the training set. It also creates a vocabulary that helps in efficient processing and model training by excluding rare words.\n"
      ],
      "metadata": {
        "id": "V7oKKCwKGjso"
      }
    },
    {
      "cell_type": "code",
      "source": [
        "def replace_oov_words_train(corpus):\n",
        "\n",
        "    # Calculate unigram frequencies for the corpus\n",
        "    unigram_counter = calc_unigrams(corpus)\n",
        "\n",
        "    # Create a dictionary for OOV words (those that appear less than 10 times)\n",
        "    OOV_words = {k[0]: \"UNK\" for k, v in unigram_counter.items() if v < 10}\n",
        "\n",
        "    # Replace OOV words in the corpus (using list comprehension for each sentence)\n",
        "    clean_corpus = [\n",
        "        [OOV_words.get(word, word) for word in sentence]\n",
        "        for sentence in corpus\n",
        "    ]\n",
        "\n",
        "    # Create vocabulary (set of unique words not in OOV_words)\n",
        "    vocabulary = [f[0] for f in unigram_counter.keys() if f[0] not in OOV_words]\n",
        "    vocabulary = set(vocabulary)  # Set for unique words\n",
        "\n",
        "    return OOV_words, clean_corpus, vocabulary\n",
        "\n",
        "# Example usage:\n",
        "oov_words, final_train_corpus, vocabulary = replace_oov_words_train(train_corpus)\n"
      ],
      "metadata": {
        "id": "N3ZcxbD5ZSWI"
      },
      "execution_count": 16,
      "outputs": []
    },
    {
      "cell_type": "code",
      "source": [
        "def replace_oov_words_dev_test(corpus, vocabulary, oov_words):\n",
        "    # Define a helper function to replace OOV words in a sentence\n",
        "    def replace_in_sentence(sentence):\n",
        "        return [\n",
        "            'UNK' if word not in vocabulary or word in oov_words else word\n",
        "            for word in sentence\n",
        "        ]\n",
        "\n",
        "    # Apply the replacement to the entire corpus using list comprehension\n",
        "    clean_corpus = list(map(replace_in_sentence, corpus))\n",
        "\n",
        "    return clean_corpus\n",
        "\n",
        "# Example usage:\n",
        "final_dev_corpus = replace_oov_words_dev_test(dev_corpus, vocabulary, oov_words)\n",
        "final_test_corpus = replace_oov_words_dev_test(test_corpus, vocabulary, oov_words)\n"
      ],
      "metadata": {
        "id": "7foqhs-wcxTM"
      },
      "execution_count": 17,
      "outputs": []
    },
    {
      "cell_type": "code",
      "source": [
        "# Function to print samples from the final corpus\n",
        "def print_samples(corpus, num_samples=5):\n",
        "    \"\"\" Print a few sample sentences from the corpus \"\"\"\n",
        "    for i, sentence in enumerate(corpus[:num_samples]):\n",
        "        print(f\"Sample {i+1}: {sentence}\")\n",
        "\n",
        "# Print samples from final_dev_corpus and final_test_corpus\n",
        "print(\"Samples from final_dev_corpus:\")\n",
        "print_samples(final_dev_corpus)\n",
        "\n",
        "print(\"\\nSamples from final_test_corpus:\")\n",
        "print_samples(final_test_corpus)\n"
      ],
      "metadata": {
        "colab": {
          "base_uri": "https://localhost:8080/"
        },
        "id": "kN7O0I7PczfI",
        "outputId": "08814ddd-c0c5-4f68-9892-a90e7aef2574"
      },
      "execution_count": 18,
      "outputs": [
        {
          "output_type": "stream",
          "name": "stdout",
          "text": [
            "Samples from final_dev_corpus:\n",
            "Sample 1: ['mln', 'dlrs', '.']\n",
            "Sample 2: ['mln', 'vs', '.']\n",
            "Sample 3: ['roderick', 'proposed', 'that', 'tender', 'offers', 'must', 'be', 'made', 'for', 'all', 'cash', 'to', 'all', 'stockholders', 'on', 'equal', 'terms', 'and', 'that', 'UNK', 'be', 'required', 'to', 'have', 'financing', 'in', 'place', 'before', 'a', 'tender', 'is', 'made', '.']\n",
            "Sample 4: ['crude', 'energy', 'materials', 'were', 'up', '.']\n",
            "Sample 5: ['lawyers', 'for', 'samjens', 'UNK', 'that', 'painewebber', 'and', 'UNK', 'withdrew', 'as', 'potential', 'advisers', 'because', 'burlington', 'chairman', 'frank', 'UNK', 'had', 'called', 'a', 'painewebber', 'executive', 'and', 'threatened', 'legal', 'action', 'if', 'painewebber', 'got', 'involved', 'in', 'an', 'effort', 'to', 'takeover', 'UNK', '.']\n",
            "\n",
            "Samples from final_test_corpus:\n",
            "Sample 1: ['wildlife', 'unit', 'proposes', 'alaska', 'UNK', 'oil', 'study', 'the', 'national', 'wildlife', 'federation', 'rejected', 'an', 'interior', 'department', 'draft', 'plan', 'to', 'open', 'UNK', 'UNK', 'in', 'northern', 'alaska', 'to', 'oil', 'and', 'gas', 'exploration', '.']\n",
            "Sample 2: ['but', 'the', 'report', 'said', 'the', 'growth', 'rate', 'of', 'malaysia', \"'s\", 'external', 'debt', 'remains', 'UNK', 'and', 'should', 'be', 'controlled', '.']\n",
            "Sample 3: ['a', 'fall', 'in', 'short', 'rates', 'would', 'make', 'the', 'public', 'aware', 'of', 'the', 'high', 'yields', 'in', 'bonds', 'and', 'lead', 'to', 'a', 'longer', 'term', 'capital', 'formation', 'UNK', 'the', 'expansion', 'of', 'money', 'supply', '.']\n",
            "Sample 4: ['criticism', 'is', 'not', 'a', 'one', 'way', 'street', '.']\n",
            "Sample 5: ['there', 'will', 'always', 'be', 'a', 'potential', 'risk', 'of', 'breakdown', 'in', 'international', 'cooperation', 'without', 'a', 'budget', 'deficit', 'cut', '.']\n"
          ]
        }
      ]
    },
    {
      "cell_type": "code",
      "source": [
        "def calculate_ngrams(corpus):\n",
        "    return {\n",
        "        \"unigrams\": calc_unigrams(corpus),\n",
        "        \"bigrams\": calc_bigrams(corpus),\n",
        "        \"trigrams\": calc_trigrams(corpus),\n",
        "    }\n",
        "\n",
        "# Calculate vocabulary length\n",
        "vocabulary_length = len(vocabulary)\n",
        "\n",
        "# Calculate n-gram counters\n",
        "ngram_counters = calculate_ngrams(final_train_corpus)\n",
        "\n",
        "# Access specific n-gram counts as needed\n",
        "unigram_counts = ngram_counters[\"unigrams\"]\n",
        "bigram_counts = ngram_counters[\"bigrams\"]\n",
        "trigram_counts = ngram_counters[\"trigrams\"]\n"
      ],
      "metadata": {
        "colab": {
          "base_uri": "https://localhost:8080/"
        },
        "id": "0LZng-JPv0Lr",
        "outputId": "9959f154-c622-44a8-8667-672b17721422"
      },
      "execution_count": 19,
      "outputs": [
        {
          "output_type": "stream",
          "name": "stderr",
          "text": [
            "Processing 2-grams: 100%|██████████| 64546/64546 [00:02<00:00, 29690.20sentence/s]\n",
            "Processing 3-grams: 100%|██████████| 64546/64546 [00:02<00:00, 27291.32sentence/s]\n"
          ]
        }
      ]
    },
    {
      "cell_type": "code",
      "source": [
        "def display_ngram_statistics(unigram_counter, bigram_counter, trigram_counter):\n",
        "    # Calculate vocabulary length\n",
        "    vocabulary_length = len(vocabulary)\n",
        "    print(f'Vocabulary Size: {vocabulary_length}')\n",
        "    print('-----------------')\n",
        "\n",
        "    # Display the top 10 unigrams and their counts\n",
        "    print('Top 10 Most Frequent Unigrams:')\n",
        "    for unigram, count in unigram_counter.most_common(10):\n",
        "        print(f'{unigram}: {count}')\n",
        "    print('-----------------')\n",
        "\n",
        "    # Display the top 10 bigrams and their counts\n",
        "    print('Top 10 Most Frequent Bigrams:')\n",
        "    for bigram, count in bigram_counter.most_common(10):\n",
        "        print(f'{bigram}: {count}')\n",
        "    print('-----------------')\n",
        "\n",
        "    # Display the top 10 trigrams and their counts\n",
        "    print('Top 10 Most Frequent Trigrams:')\n",
        "    for trigram, count in trigram_counter.most_common(10):\n",
        "        print(f'{trigram}: {count}')\n",
        "    print('-----------------')\n",
        "\n",
        "\n",
        "\n",
        "display_ngram_statistics(unigram_counts, bigram_counts, trigram_counts)\n"
      ],
      "metadata": {
        "colab": {
          "base_uri": "https://localhost:8080/"
        },
        "id": "3vSswMZZxgvw",
        "outputId": "1f51af66-2394-4861-a5fb-a75f6060e8de"
      },
      "execution_count": 20,
      "outputs": [
        {
          "output_type": "stream",
          "name": "stdout",
          "text": [
            "Vocabulary Size: 6131\n",
            "-----------------\n",
            "Top 10 Most Frequent Unigrams:\n",
            "('.',): 64524\n",
            "('the',): 55468\n",
            "('UNK',): 51685\n",
            "('of',): 29361\n",
            "('to',): 29146\n",
            "('in',): 23354\n",
            "('and',): 20574\n",
            "('said',): 20326\n",
            "('a',): 19812\n",
            "('mln',): 14818\n",
            "-----------------\n",
            "Top 10 Most Frequent Bigrams:\n",
            "('.', '<e>'): 64519\n",
            "('said', '.'): 6295\n",
            "('in', 'the'): 5494\n",
            "('of', 'the'): 5474\n",
            "('lt', 'UNK'): 5186\n",
            "('UNK', 'UNK'): 4595\n",
            "('vs', '.'): 4138\n",
            "('mln', 'dlrs'): 3503\n",
            "('said', 'it'): 3319\n",
            "('mln', 'vs'): 3116\n",
            "-----------------\n",
            "Top 10 Most Frequent Trigrams:\n",
            "('.', '<e>', '<e>'): 64519\n",
            "('said', '.', '<e>'): 6295\n",
            "('vs', '.', '<e>'): 4138\n",
            "('mln', 'vs', '.'): 2600\n",
            "('UNK', '.', '<e>'): 2547\n",
            "('to', '.', '<e>'): 2146\n",
            "('of', '.', '<e>'): 1843\n",
            "('revs', '.', '<e>'): 1374\n",
            "('cts', 'vs', 'cts'): 1355\n",
            "('from', '.', '<e>'): 1158\n",
            "-----------------\n"
          ]
        }
      ]
    },
    {
      "cell_type": "code",
      "source": [
        "import numpy as np\n",
        "import math\n",
        "from collections import Counter\n",
        "import matplotlib.pyplot as plt\n",
        "\n",
        "def calc_bigram_prob(w1, w2, alpha, bigram_counts, unigram_counts, vocab_size):\n",
        "    \"\"\" Calculate Bigram model probability using Laplace smoothing. \"\"\"\n",
        "    return (bigram_counts[(w1, w2)] + alpha) / (unigram_counts[(w1,)] + alpha * vocab_size)\n",
        "\n",
        "def calc_trigram_prob(w1, w2, w3, alpha, trigram_counts, bigram_counts, vocab_size):\n",
        "    \"\"\" Calculate Trigram model probability using Laplace smoothing. \"\"\"\n",
        "    return (trigram_counts[(w1, w2, w3)] + alpha) / (bigram_counts[(w1, w2)] + alpha * vocab_size)\n",
        "\n",
        "def calc_ngram_prob(model, *words, alpha, ngram_counts, context_counts, vocab_size):\n",
        "    \"\"\" Calculate n-gram model probability based on the specified model type (bigram/trigram). \"\"\"\n",
        "    if model == 'bigram':\n",
        "        return calc_bigram_prob(words[0], words[1], alpha, ngram_counts, context_counts, vocab_size)\n",
        "    elif model == 'trigram':\n",
        "        return calc_trigram_prob(words[0], words[1], words[2], alpha, ngram_counts, context_counts, vocab_size)\n",
        "\n",
        "def calculate_perplexity_and_entropy(model, dev_corpus, bigram_counts, trigram_counts, unigram_counts, vocab_size):\n",
        "    \"\"\" Calculate perplexity and entropy for the given model type (bigram/trigram) with smoothing parameter alpha. \"\"\"\n",
        "    alphas = np.linspace(0.001, 0.1, 100)\n",
        "    min_perplexity = float('inf')\n",
        "    min_entropy = float('inf')\n",
        "    optimal_alpha = None\n",
        "\n",
        "    perplexities = []  # Store perplexities for plotting\n",
        "    entropies = []  # Store entropies for plotting\n",
        "\n",
        "    # Loop through different alpha values for smoothing\n",
        "    for alpha in alphas:\n",
        "        log_prob_sum = 0\n",
        "        ngram_count = 0\n",
        "\n",
        "        # Evaluate the model over the development corpus\n",
        "        for sentence in dev_corpus:\n",
        "            sentence = ['<s>'] + sentence + ['<e>']  # Add start and end tokens\n",
        "            for idx in range(1, len(sentence)):\n",
        "                if model == 'bigram':\n",
        "                    ngram_prob = calc_ngram_prob(model, sentence[idx-1], sentence[idx], alpha=alpha,\n",
        "                                                 ngram_counts=bigram_counts, context_counts=unigram_counts,\n",
        "                                                 vocab_size=vocab_size)\n",
        "                elif model == 'trigram' and idx < len(sentence) - 1:\n",
        "                    ngram_prob = calc_ngram_prob(model, sentence[idx-1], sentence[idx], sentence[idx+1], alpha=alpha,\n",
        "                                                 ngram_counts=trigram_counts, context_counts=bigram_counts,\n",
        "                                                 vocab_size=vocab_size)\n",
        "                log_prob_sum += math.log2(ngram_prob)\n",
        "                ngram_count += 1\n",
        "\n",
        "        # Calculate the average entropy and perplexity for this alpha\n",
        "        avg_entropy = -log_prob_sum / ngram_count\n",
        "        avg_perplexity = 2 ** avg_entropy\n",
        "\n",
        "        entropies.append(avg_entropy)\n",
        "        perplexities.append(avg_perplexity)\n",
        "\n",
        "        # Track the best alpha based on minimum entropy\n",
        "        if avg_entropy < min_entropy:\n",
        "            min_entropy = avg_entropy\n",
        "            optimal_alpha = alpha\n",
        "            min_perplexity = avg_perplexity\n",
        "\n",
        "    return min_perplexity, min_entropy, optimal_alpha, alphas, perplexities, entropies\n",
        "\n",
        "# Example: dev_corpus, bigram_counts, trigram_counts, unigram_counts, vocab_size are predefined\n",
        "for model in ['bigram', 'trigram']:\n",
        "    min_perplexity, min_entropy, best_alpha, alphas, perplexities, entropies = calculate_perplexity_and_entropy(\n",
        "        model, final_dev_corpus, bigram_counts, trigram_counts, unigram_counts, vocabulary_length\n",
        "    )\n",
        "\n",
        "    print(f\"The lowest perplexity/entropy for the {model} model: \"\n",
        "          f\"{round(min_perplexity, 3)} / {round(min_entropy, 3)} at alpha = {np.round(best_alpha, 3)}\")\n",
        "\n",
        "    # Plot perplexity and entropy side by side\n",
        "    fig, axes = plt.subplots(1, 2, figsize=(14, 6))  # Create a 1x2 grid for the plots\n",
        "\n",
        "    # Plot perplexity\n",
        "    axes[0].plot(alphas, perplexities, label='Perplexity', color='blue')\n",
        "    axes[0].scatter(best_alpha, min_perplexity, color='red', label=f'Min Perplexity at alpha={best_alpha:.3f}')\n",
        "    axes[0].annotate(f'Min Perplexity\\n({best_alpha:.3f}, {min_perplexity:.3f})',\n",
        "                     xy=(best_alpha, min_perplexity),\n",
        "                     xytext=(best_alpha + 0.005, min_perplexity + 0.1),\n",
        "                     arrowprops=dict(facecolor='red', arrowstyle=\"->\"),\n",
        "                     fontsize=10, color='red')\n",
        "    axes[0].set_title(f\"Perplexity vs Alpha for {model} Model\")\n",
        "    axes[0].set_xlabel('Alpha')\n",
        "    axes[0].set_ylabel('Perplexity')\n",
        "    axes[0].legend()\n",
        "    axes[0].grid(True)\n",
        "\n",
        "    # Plot entropy\n",
        "    axes[1].plot(alphas, entropies, label='Entropy', color='green')\n",
        "    axes[1].scatter(best_alpha, min_entropy, color='red', label=f'Min Entropy at alpha={best_alpha:.3f}')\n",
        "    axes[1].annotate(f'Min Entropy\\n({best_alpha:.3f}, {min_entropy:.3f})',\n",
        "                     xy=(best_alpha, min_entropy),\n",
        "                     xytext=(best_alpha + 0.005, min_entropy + 0.1),\n",
        "                     arrowprops=dict(facecolor='red', arrowstyle=\"->\"),\n",
        "                     fontsize=10, color='red')\n",
        "    axes[1].set_title(f\"Entropy vs Alpha for {model} Model\")\n",
        "    axes[1].set_xlabel('Alpha')\n",
        "    axes[1].set_ylabel('Entropy')\n",
        "    axes[1].legend()\n",
        "    axes[1].grid(True)\n",
        "\n",
        "    # Display the plots side by side\n",
        "    plt.tight_layout()  # Adjust layout for better spacing\n",
        "    plt.show()\n"
      ],
      "metadata": {
        "colab": {
          "base_uri": "https://localhost:8080/",
          "height": 1000
        },
        "id": "mDY-HdQEKX2t",
        "outputId": "df4b682b-1552-406b-d6ab-421c8b17dbba"
      },
      "execution_count": 21,
      "outputs": [
        {
          "output_type": "stream",
          "name": "stdout",
          "text": [
            "The lowest perplexity/entropy for the bigram model: 123.281 / 6.946 at alpha = 0.008\n"
          ]
        },
        {
          "output_type": "display_data",
          "data": {
            "text/plain": [
              "<Figure size 1400x600 with 2 Axes>"
            ],
            "image/png": "[encoded data removed]"
          },
          "metadata": {}
        },
        {
          "output_type": "stream",
          "name": "stdout",
          "text": [
            "The lowest perplexity/entropy for the trigram model: 180.073 / 7.492 at alpha = 0.002\n"
          ]
        },
        {
          "output_type": "display_data",
          "data": {
            "text/plain": [
              "<Figure size 1400x600 with 2 Axes>"
            ],
            "image/png": "[encoded data removed]"
          },
          "metadata": {}
        }
      ]
    },
    {
      "cell_type": "markdown",
      "source": [
        "## Why Do We Compute the Sum of Logarithms of N-gram Probabilities?\n",
        "\n",
        "In n-gram language models, probabilities are often very small, especially for longer sequences. Instead of directly multiplying these probabilities, we compute the **sum of logarithms** of the probabilities. Here's why this approach is used and why it is important.\n",
        "\n",
        "### 1. **Small Probabilities**\n",
        "\n",
        "In typical n-gram models, the probability of a sequence of words is calculated by multiplying the probabilities of individual n-grams. For example, the probability of a sequence like \"the market is rising\" might be computed as:\n",
        "\n",
        "$$\n",
        "P(\\text{\"the\"}) = 0.1, \\quad P(\\text{\"market\" | the}) = 0.05, \\quad \\dots\n",
        "$$\n",
        "\n",
        "Multiplying these small probabilities together yields an extremely small number, which can cause **numerical underflow** (i.e., the result becomes too small to represent in a computer).\n",
        "\n",
        "### 2. **Logarithms for Numerical Stability**\n",
        "\n",
        "To avoid underflow and to handle very small numbers efficiently, we use **logarithms**. Logarithms have the following useful property:\n",
        "\n",
        "$$\n",
        "\\log(P(w_1, w_2, \\dots, w_n)) = \\log(P(w_1)) + \\log(P(w_2 | w_1)) + \\dots + \\log(P(w_n | w_1, \\dots, w_{n-1}))\n",
        "$$\n",
        "\n",
        "By applying the logarithm, we transform the **product of probabilities** into a **sum of logarithms**. This makes it easier to work with small values and avoids the numerical problems associated with multiplying many small numbers.\n",
        "\n",
        "### 3. **Simplification of Calculations**\n",
        "\n",
        "- **Logarithms** simplify the model's calculations by turning a **multiplicative** process into an **additive** one.\n",
        "- The logarithm of any probability is always **negative** (since probabilities are between 0 and 1), but the sum of these logarithms can be handled much more easily.\n",
        "\n",
        "This transformation allows us to compute the **log-likelihood** of a sequence efficiently. For example, the log-likelihood of a sequence $( w_1, w_2, \\dots, w_n )$ is given by:\n",
        "\n",
        "$$\n",
        "\\text{log-likelihood} = \\sum_{i=1}^{n} \\log P(w_i | w_{i-1}, \\dots, w_1)\n",
        "$$\n",
        "\n",
        "Maximizing the log-likelihood is equivalent to maximizing the likelihood but is much easier to compute.\n",
        "\n",
        "### 4. **Log-Likelihood Maximization**\n",
        "\n",
        "Maximizing the likelihood of a sequence is essential in language modeling, and using logarithms makes this process more computationally feasible. The sum of logarithms allows for easier **optimization**, particularly when using **maximum likelihood estimation (MLE)**.\n",
        "\n",
        "### 5. **Explanation of Kneser-Ney Smoothing**\n",
        "- **Kneser-Ney smoothing** is a technique used to adjust the probabilities of n-grams, especially for those that have never been seen in the training corpus. It reduces the impact of unseen n-grams by distributing probability mass to less frequent n-grams, thus making the model more robust to rare events.\n",
        "- The function first calculates the raw frequency of n-grams, then applies the smoothing technique by modifying the counts of n-grams based on their lower-order counterparts.\n",
        "\n",
        "These functions help in building a language model by counting the frequency of n-grams and applying smoothing to handle unseen combinations of words."
      ],
      "metadata": {
        "id": "ssFI1Y_DPsVs"
      }
    },
    {
      "cell_type": "markdown",
      "source": [
        "## Why We Do the Same\n",
        "\n",
        "- **Numerical Stability**: Multiplying many small probabilities can cause underflow. Taking the log of probabilities ensures that we avoid this issue.\n",
        "- **Simplification**: Adding logarithms is computationally simpler and more stable than multiplying probabilities.\n",
        "- **Optimization**: The log-likelihood function is easier to maximize compared to the product of probabilities.\n",
        "- **Consistency**: Using log-probabilities is the standard approach in machine learning and natural language processing, ensuring consistency with other models and libraries.\n",
        "\n",
        "In summary, computing the sum of the logarithms of the n-gram probabilities instead of directly multiplying the probabilities is a widely adopted practice for maintaining numerical stability and simplifying the optimization process in language models.\n",
        "\n"
      ],
      "metadata": {
        "id": "74g39_YxRfUF"
      }
    },
    {
      "cell_type": "markdown",
      "source": [
        "### Application of Bigram and Trigram on test set\n",
        "\n"
      ],
      "metadata": {
        "id": "2NiveRPawbcV"
      }
    },
    {
      "cell_type": "code",
      "source": [
        "import pandas as pd\n",
        "import math\n",
        "\n",
        "# Function to safely calculate log probabilities\n",
        "def calculate_log_probability(probability):\n",
        "    \"\"\"Return log2 of probability or -inf if probability is 0 to avoid errors.\"\"\"\n",
        "    return math.log2(probability) if probability > 0 else float('-inf')\n",
        "\n",
        "def calculate_sentence_log_probability(sentence, alpha, model, ngram_counts, context_counts, vocab_size):\n",
        "    \"\"\"Calculate the sum of log probabilities for a sentence based on bigram or trigram model.\"\"\"\n",
        "    sentence = ['<s>'] + sentence + ['<e>']  # Add start and end tokens\n",
        "    log_prob_sum = 0\n",
        "\n",
        "    for idx in range(1, len(sentence)):\n",
        "        if model == 'bigram':\n",
        "            # For bigram, pass two consecutive words (w1, w2)\n",
        "            log_prob_sum += calculate_log_probability(\n",
        "                calc_bigram_prob(\n",
        "                    sentence[idx-1], sentence[idx], alpha,\n",
        "                    bigram_counts, context_counts, vocab_size\n",
        "                )\n",
        "            )\n",
        "        elif model == 'trigram' and idx < len(sentence) - 1:\n",
        "            # For trigram, pass three consecutive words (w1, w2, w3)\n",
        "            log_prob_sum += calculate_log_probability(\n",
        "                calc_trigram_prob(\n",
        "                    sentence[idx-1], sentence[idx], sentence[idx+1], alpha,\n",
        "                    ngram_counts, context_counts, vocab_size\n",
        "                )\n",
        "            )\n",
        "\n",
        "    return log_prob_sum\n",
        "\n",
        "# Calculate log probabilities for all sentences in test corpus using bigram model\n",
        "log_probabilities = []\n",
        "alpha = 0.008  # Smoothing parameter\n",
        "model = 'bigram'  # Set model type (can be 'bigram' or 'trigram')\n",
        "for sentence in test_corpus:\n",
        "    sentence_log_prob = calculate_sentence_log_probability(\n",
        "        sentence, alpha, model, bigram_counts if model == 'bigram' else trigram_counts,\n",
        "        unigram_counts, vocabulary_length\n",
        "    )\n",
        "    log_probabilities.append(sentence_log_prob)\n",
        "\n",
        "# Create DataFrame for storing results\n",
        "bigram_prob_df = pd.DataFrame({\n",
        "    \"Sentence\": final_test_corpus,\n",
        "    \"Log Probability\": log_probabilities\n",
        "})\n",
        "pd.set_option('display.max_colwidth',1)\n",
        "\n",
        "# Display the first few rows of the DataFrame\n",
        "bigram_prob_df.head()\n"
      ],
      "metadata": {
        "colab": {
          "base_uri": "https://localhost:8080/",
          "height": 206
        },
        "id": "opmVR5WqwbKp",
        "outputId": "15f3eac4-b0fb-4675-e4d5-aca9266db564"
      },
      "execution_count": 22,
      "outputs": [
        {
          "output_type": "execute_result",
          "data": {
            "text/plain": [
              "                                                                                                                                                                                                                 Sentence  \\\n",
              "0  [wildlife, unit, proposes, alaska, UNK, oil, study, the, national, wildlife, federation, rejected, an, interior, department, draft, plan, to, open, UNK, UNK, in, northern, alaska, to, oil, and, gas, exploration, .]   \n",
              "1  [but, the, report, said, the, growth, rate, of, malaysia, 's, external, debt, remains, UNK, and, should, be, controlled, .]                                                                                              \n",
              "2  [a, fall, in, short, rates, would, make, the, public, aware, of, the, high, yields, in, bonds, and, lead, to, a, longer, term, capital, formation, UNK, the, expansion, of, money, supply, .]                            \n",
              "3  [criticism, is, not, a, one, way, street, .]                                                                                                                                                                             \n",
              "4  [there, will, always, be, a, potential, risk, of, breakdown, in, international, cooperation, without, a, budget, deficit, cut, .]                                                                                        \n",
              "\n",
              "   Log Probability  \n",
              "0 -316.848883       \n",
              "1 -142.775364       \n",
              "2 -246.495451       \n",
              "3 -64.268871        \n",
              "4 -154.211839       "
            ],
            "text/html": [
              "\n",
              "  <div id=\"df-8bf47844-74ab-4245-a7b8-1ba9a6e7bddd\" class=\"colab-df-container\">\n",
              "    <div>\n",
              "<style scoped>\n",
              "    .dataframe tbody tr th:only-of-type {\n",
              "        vertical-align: middle;\n",
              "    }\n",
              "\n",
              "    .dataframe tbody tr th {\n",
              "        vertical-align: top;\n",
              "    }\n",
              "\n",
              "    .dataframe thead th {\n",
              "        text-align: right;\n",
              "    }\n",
              "</style>\n",
              "<table border=\"1\" class=\"dataframe\">\n",
              "  <thead>\n",
              "    <tr style=\"text-align: right;\">\n",
              "      <th></th>\n",
              "      <th>Sentence</th>\n",
              "      <th>Log Probability</th>\n",
              "    </tr>\n",
              "  </thead>\n",
              "  <tbody>\n",
              "    <tr>\n",
              "      <th>0</th>\n",
              "      <td>[wildlife, unit, proposes, alaska, UNK, oil, study, the, national, wildlife, federation, rejected, an, interior, department, draft, plan, to, open, UNK, UNK, in, northern, alaska, to, oil, and, gas, exploration, .]</td>\n",
              "      <td>-316.848883</td>\n",
              "    </tr>\n",
              "    <tr>\n",
              "      <th>1</th>\n",
              "      <td>[but, the, report, said, the, growth, rate, of, malaysia, 's, external, debt, remains, UNK, and, should, be, controlled, .]</td>\n",
              "      <td>-142.775364</td>\n",
              "    </tr>\n",
              "    <tr>\n",
              "      <th>2</th>\n",
              "      <td>[a, fall, in, short, rates, would, make, the, public, aware, of, the, high, yields, in, bonds, and, lead, to, a, longer, term, capital, formation, UNK, the, expansion, of, money, supply, .]</td>\n",
              "      <td>-246.495451</td>\n",
              "    </tr>\n",
              "    <tr>\n",
              "      <th>3</th>\n",
              "      <td>[criticism, is, not, a, one, way, street, .]</td>\n",
              "      <td>-64.268871</td>\n",
              "    </tr>\n",
              "    <tr>\n",
              "      <th>4</th>\n",
              "      <td>[there, will, always, be, a, potential, risk, of, breakdown, in, international, cooperation, without, a, budget, deficit, cut, .]</td>\n",
              "      <td>-154.211839</td>\n",
              "    </tr>\n",
              "  </tbody>\n",
              "</table>\n",
              "</div>\n",
              "    <div class=\"colab-df-buttons\">\n",
              "\n",
              "  <div class=\"colab-df-container\">\n",
              "    <button class=\"colab-df-convert\" onclick=\"convertToInteractive('df-8bf47844-74ab-4245-a7b8-1ba9a6e7bddd')\"\n",
              "            title=\"Convert this dataframe to an interactive table.\"\n",
              "            style=\"display:none;\">\n",
              "\n",
              "  <svg xmlns=\"http://www.w3.org/2000/svg\" height=\"24px\" viewBox=\"0 -960 960 960\">\n",
              "    <path d=\"M120-120v-720h720v720H120Zm60-500h600v-160H180v160Zm220 220h160v-160H400v160Zm0 220h160v-160H400v160ZM180-400h160v-160H180v160Zm440 0h160v-160H620v160ZM180-180h160v-160H180v160Zm440 0h160v-160H620v160Z\"/>\n",
              "  </svg>\n",
              "    </button>\n",
              "\n",
              "  <style>\n",
              "    .colab-df-container {\n",
              "      display:flex;\n",
              "      gap: 12px;\n",
              "    }\n",
              "\n",
              "    .colab-df-convert {\n",
              "      background-color: #E8F0FE;\n",
              "      border: none;\n",
              "      border-radius: 50%;\n",
              "      cursor: pointer;\n",
              "      display: none;\n",
              "      fill: #1967D2;\n",
              "      height: 32px;\n",
              "      padding: 0 0 0 0;\n",
              "      width: 32px;\n",
              "    }\n",
              "\n",
              "    .colab-df-convert:hover {\n",
              "      background-color: #E2EBFA;\n",
              "      box-shadow: 0px 1px 2px rgba(60, 64, 67, 0.3), 0px 1px 3px 1px rgba(60, 64, 67, 0.15);\n",
              "      fill: #174EA6;\n",
              "    }\n",
              "\n",
              "    .colab-df-buttons div {\n",
              "      margin-bottom: 4px;\n",
              "    }\n",
              "\n",
              "    [theme=dark] .colab-df-convert {\n",
              "      background-color: #3B4455;\n",
              "      fill: #D2E3FC;\n",
              "    }\n",
              "\n",
              "    [theme=dark] .colab-df-convert:hover {\n",
              "      background-color: #434B5C;\n",
              "      box-shadow: 0px 1px 3px 1px rgba(0, 0, 0, 0.15);\n",
              "      filter: drop-shadow(0px 1px 2px rgba(0, 0, 0, 0.3));\n",
              "      fill: #FFFFFF;\n",
              "    }\n",
              "  </style>\n",
              "\n",
              "    <script>\n",
              "      const buttonEl =\n",
              "        document.querySelector('#df-8bf47844-74ab-4245-a7b8-1ba9a6e7bddd button.colab-df-convert');\n",
              "      buttonEl.style.display =\n",
              "        google.colab.kernel.accessAllowed ? 'block' : 'none';\n",
              "\n",
              "      async function convertToInteractive(key) {\n",
              "        const element = document.querySelector('#df-8bf47844-74ab-4245-a7b8-1ba9a6e7bddd');\n",
              "        const dataTable =\n",
              "          await google.colab.kernel.invokeFunction('convertToInteractive',\n",
              "                                                    [key], {});\n",
              "        if (!dataTable) return;\n",
              "\n",
              "        const docLinkHtml = 'Like what you see? Visit the ' +\n",
              "          '<a target=\"_blank\" href=https://colab.research.google.com/notebooks/data_table.ipynb>data table notebook</a>'\n",
              "          + ' to learn more about interactive tables.';\n",
              "        element.innerHTML = '';\n",
              "        dataTable['output_type'] = 'display_data';\n",
              "        await google.colab.output.renderOutput(dataTable, element);\n",
              "        const docLink = document.createElement('div');\n",
              "        docLink.innerHTML = docLinkHtml;\n",
              "        element.appendChild(docLink);\n",
              "      }\n",
              "    </script>\n",
              "  </div>\n",
              "\n",
              "\n",
              "<div id=\"df-c1636a3c-ae59-4d38-b94f-064b99d12dad\">\n",
              "  <button class=\"colab-df-quickchart\" onclick=\"quickchart('df-c1636a3c-ae59-4d38-b94f-064b99d12dad')\"\n",
              "            title=\"Suggest charts\"\n",
              "            style=\"display:none;\">\n",
              "\n",
              "<svg xmlns=\"http://www.w3.org/2000/svg\" height=\"24px\"viewBox=\"0 0 24 24\"\n",
              "     width=\"24px\">\n",
              "    <g>\n",
              "        <path d=\"M19 3H5c-1.1 0-2 .9-2 2v14c0 1.1.9 2 2 2h14c1.1 0 2-.9 2-2V5c0-1.1-.9-2-2-2zM9 17H7v-7h2v7zm4 0h-2V7h2v10zm4 0h-2v-4h2v4z\"/>\n",
              "    </g>\n",
              "</svg>\n",
              "  </button>\n",
              "\n",
              "<style>\n",
              "  .colab-df-quickchart {\n",
              "      --bg-color: #E8F0FE;\n",
              "      --fill-color: #1967D2;\n",
              "      --hover-bg-color: #E2EBFA;\n",
              "      --hover-fill-color: #174EA6;\n",
              "      --disabled-fill-color: #AAA;\n",
              "      --disabled-bg-color: #DDD;\n",
              "  }\n",
              "\n",
              "  [theme=dark] .colab-df-quickchart {\n",
              "      --bg-color: #3B4455;\n",
              "      --fill-color: #D2E3FC;\n",
              "      --hover-bg-color: #434B5C;\n",
              "      --hover-fill-color: #FFFFFF;\n",
              "      --disabled-bg-color: #3B4455;\n",
              "      --disabled-fill-color: #666;\n",
              "  }\n",
              "\n",
              "  .colab-df-quickchart {\n",
              "    background-color: var(--bg-color);\n",
              "    border: none;\n",
              "    border-radius: 50%;\n",
              "    cursor: pointer;\n",
              "    display: none;\n",
              "    fill: var(--fill-color);\n",
              "    height: 32px;\n",
              "    padding: 0;\n",
              "    width: 32px;\n",
              "  }\n",
              "\n",
              "  .colab-df-quickchart:hover {\n",
              "    background-color: var(--hover-bg-color);\n",
              "    box-shadow: 0 1px 2px rgba(60, 64, 67, 0.3), 0 1px 3px 1px rgba(60, 64, 67, 0.15);\n",
              "    fill: var(--button-hover-fill-color);\n",
              "  }\n",
              "\n",
              "  .colab-df-quickchart-complete:disabled,\n",
              "  .colab-df-quickchart-complete:disabled:hover {\n",
              "    background-color: var(--disabled-bg-color);\n",
              "    fill: var(--disabled-fill-color);\n",
              "    box-shadow: none;\n",
              "  }\n",
              "\n",
              "  .colab-df-spinner {\n",
              "    border: 2px solid var(--fill-color);\n",
              "    border-color: transparent;\n",
              "    border-bottom-color: var(--fill-color);\n",
              "    animation:\n",
              "      spin 1s steps(1) infinite;\n",
              "  }\n",
              "\n",
              "  @keyframes spin {\n",
              "    0% {\n",
              "      border-color: transparent;\n",
              "      border-bottom-color: var(--fill-color);\n",
              "      border-left-color: var(--fill-color);\n",
              "    }\n",
              "    20% {\n",
              "      border-color: transparent;\n",
              "      border-left-color: var(--fill-color);\n",
              "      border-top-color: var(--fill-color);\n",
              "    }\n",
              "    30% {\n",
              "      border-color: transparent;\n",
              "      border-left-color: var(--fill-color);\n",
              "      border-top-color: var(--fill-color);\n",
              "      border-right-color: var(--fill-color);\n",
              "    }\n",
              "    40% {\n",
              "      border-color: transparent;\n",
              "      border-right-color: var(--fill-color);\n",
              "      border-top-color: var(--fill-color);\n",
              "    }\n",
              "    60% {\n",
              "      border-color: transparent;\n",
              "      border-right-color: var(--fill-color);\n",
              "    }\n",
              "    80% {\n",
              "      border-color: transparent;\n",
              "      border-right-color: var(--fill-color);\n",
              "      border-bottom-color: var(--fill-color);\n",
              "    }\n",
              "    90% {\n",
              "      border-color: transparent;\n",
              "      border-bottom-color: var(--fill-color);\n",
              "    }\n",
              "  }\n",
              "</style>\n",
              "\n",
              "  <script>\n",
              "    async function quickchart(key) {\n",
              "      const quickchartButtonEl =\n",
              "        document.querySelector('#' + key + ' button');\n",
              "      quickchartButtonEl.disabled = true;  // To prevent multiple clicks.\n",
              "      quickchartButtonEl.classList.add('colab-df-spinner');\n",
              "      try {\n",
              "        const charts = await google.colab.kernel.invokeFunction(\n",
              "            'suggestCharts', [key], {});\n",
              "      } catch (error) {\n",
              "        console.error('Error during call to suggestCharts:', error);\n",
              "      }\n",
              "      quickchartButtonEl.classList.remove('colab-df-spinner');\n",
              "      quickchartButtonEl.classList.add('colab-df-quickchart-complete');\n",
              "    }\n",
              "    (() => {\n",
              "      let quickchartButtonEl =\n",
              "        document.querySelector('#df-c1636a3c-ae59-4d38-b94f-064b99d12dad button');\n",
              "      quickchartButtonEl.style.display =\n",
              "        google.colab.kernel.accessAllowed ? 'block' : 'none';\n",
              "    })();\n",
              "  </script>\n",
              "</div>\n",
              "\n",
              "    </div>\n",
              "  </div>\n"
            ],
            "application/vnd.google.colaboratory.intrinsic+json": {
              "type": "dataframe",
              "variable_name": "bigram_prob_df",
              "summary": "{\n  \"name\": \"bigram_prob_df\",\n  \"rows\": 8069,\n  \"fields\": [\n    {\n      \"column\": \"Sentence\",\n      \"properties\": {\n        \"dtype\": \"object\",\n        \"semantic_type\": \"\",\n        \"description\": \"\"\n      }\n    },\n    {\n      \"column\": \"Log Probability\",\n      \"properties\": {\n        \"dtype\": \"number\",\n        \"std\": 119.8873157380331,\n        \"min\": -1028.8457919821328,\n        \"max\": -12.583114559831236,\n        \"num_unique_values\": 6812,\n        \"samples\": [\n          -147.13918402356586,\n          -225.04024367786812,\n          -152.87269944355077\n        ],\n        \"semantic_type\": \"\",\n        \"description\": \"\"\n      }\n    }\n  ]\n}"
            }
          },
          "metadata": {},
          "execution_count": 22
        }
      ]
    },
    {
      "cell_type": "code",
      "source": [
        "# Calculate log probabilities for all sentences in test corpus using bigram model\n",
        "log_probabilities = []\n",
        "alpha = 0.008  # Smoothing parameter\n",
        "model = 'trigram'  # Set model type (can be 'bigram' or 'trigram')\n",
        "for sentence in test_corpus:\n",
        "    sentence_log_prob = calculate_sentence_log_probability(\n",
        "        sentence, alpha, model, bigram_counts if model == 'bigram' else trigram_counts,\n",
        "        unigram_counts, vocabulary_length\n",
        "    )\n",
        "    log_probabilities.append(sentence_log_prob)\n",
        "\n",
        "# Create DataFrame for storing results\n",
        "trigram_prob_df = pd.DataFrame({\n",
        "    \"Sentence\": final_test_corpus,\n",
        "    \"Log Probability\": log_probabilities\n",
        "})\n",
        "\n",
        "# Display the first few rows of the DataFrame\n",
        "trigram_prob_df.head()"
      ],
      "metadata": {
        "colab": {
          "base_uri": "https://localhost:8080/",
          "height": 206
        },
        "id": "ZHXP8g7gzQR_",
        "outputId": "32e898a4-0c8e-4865-840d-aa6bb6d29763"
      },
      "execution_count": 23,
      "outputs": [
        {
          "output_type": "execute_result",
          "data": {
            "text/plain": [
              "                                                                                                                                                                                                                 Sentence  \\\n",
              "0  [wildlife, unit, proposes, alaska, UNK, oil, study, the, national, wildlife, federation, rejected, an, interior, department, draft, plan, to, open, UNK, UNK, in, northern, alaska, to, oil, and, gas, exploration, .]   \n",
              "1  [but, the, report, said, the, growth, rate, of, malaysia, 's, external, debt, remains, UNK, and, should, be, controlled, .]                                                                                              \n",
              "2  [a, fall, in, short, rates, would, make, the, public, aware, of, the, high, yields, in, bonds, and, lead, to, a, longer, term, capital, formation, UNK, the, expansion, of, money, supply, .]                            \n",
              "3  [criticism, is, not, a, one, way, street, .]                                                                                                                                                                             \n",
              "4  [there, will, always, be, a, potential, risk, of, breakdown, in, international, cooperation, without, a, budget, deficit, cut, .]                                                                                        \n",
              "\n",
              "   Log Probability  \n",
              "0 -324.517504       \n",
              "1 -154.614890       \n",
              "2 -251.646921       \n",
              "3 -66.070652        \n",
              "4 -193.881105       "
            ],
            "text/html": [
              "\n",
              "  <div id=\"df-feaaecf4-42b9-4f08-b0b7-feab658b6607\" class=\"colab-df-container\">\n",
              "    <div>\n",
              "<style scoped>\n",
              "    .dataframe tbody tr th:only-of-type {\n",
              "        vertical-align: middle;\n",
              "    }\n",
              "\n",
              "    .dataframe tbody tr th {\n",
              "        vertical-align: top;\n",
              "    }\n",
              "\n",
              "    .dataframe thead th {\n",
              "        text-align: right;\n",
              "    }\n",
              "</style>\n",
              "<table border=\"1\" class=\"dataframe\">\n",
              "  <thead>\n",
              "    <tr style=\"text-align: right;\">\n",
              "      <th></th>\n",
              "      <th>Sentence</th>\n",
              "      <th>Log Probability</th>\n",
              "    </tr>\n",
              "  </thead>\n",
              "  <tbody>\n",
              "    <tr>\n",
              "      <th>0</th>\n",
              "      <td>[wildlife, unit, proposes, alaska, UNK, oil, study, the, national, wildlife, federation, rejected, an, interior, department, draft, plan, to, open, UNK, UNK, in, northern, alaska, to, oil, and, gas, exploration, .]</td>\n",
              "      <td>-324.517504</td>\n",
              "    </tr>\n",
              "    <tr>\n",
              "      <th>1</th>\n",
              "      <td>[but, the, report, said, the, growth, rate, of, malaysia, 's, external, debt, remains, UNK, and, should, be, controlled, .]</td>\n",
              "      <td>-154.614890</td>\n",
              "    </tr>\n",
              "    <tr>\n",
              "      <th>2</th>\n",
              "      <td>[a, fall, in, short, rates, would, make, the, public, aware, of, the, high, yields, in, bonds, and, lead, to, a, longer, term, capital, formation, UNK, the, expansion, of, money, supply, .]</td>\n",
              "      <td>-251.646921</td>\n",
              "    </tr>\n",
              "    <tr>\n",
              "      <th>3</th>\n",
              "      <td>[criticism, is, not, a, one, way, street, .]</td>\n",
              "      <td>-66.070652</td>\n",
              "    </tr>\n",
              "    <tr>\n",
              "      <th>4</th>\n",
              "      <td>[there, will, always, be, a, potential, risk, of, breakdown, in, international, cooperation, without, a, budget, deficit, cut, .]</td>\n",
              "      <td>-193.881105</td>\n",
              "    </tr>\n",
              "  </tbody>\n",
              "</table>\n",
              "</div>\n",
              "    <div class=\"colab-df-buttons\">\n",
              "\n",
              "  <div class=\"colab-df-container\">\n",
              "    <button class=\"colab-df-convert\" onclick=\"convertToInteractive('df-feaaecf4-42b9-4f08-b0b7-feab658b6607')\"\n",
              "            title=\"Convert this dataframe to an interactive table.\"\n",
              "            style=\"display:none;\">\n",
              "\n",
              "  <svg xmlns=\"http://www.w3.org/2000/svg\" height=\"24px\" viewBox=\"0 -960 960 960\">\n",
              "    <path d=\"M120-120v-720h720v720H120Zm60-500h600v-160H180v160Zm220 220h160v-160H400v160Zm0 220h160v-160H400v160ZM180-400h160v-160H180v160Zm440 0h160v-160H620v160ZM180-180h160v-160H180v160Zm440 0h160v-160H620v160Z\"/>\n",
              "  </svg>\n",
              "    </button>\n",
              "\n",
              "  <style>\n",
              "    .colab-df-container {\n",
              "      display:flex;\n",
              "      gap: 12px;\n",
              "    }\n",
              "\n",
              "    .colab-df-convert {\n",
              "      background-color: #E8F0FE;\n",
              "      border: none;\n",
              "      border-radius: 50%;\n",
              "      cursor: pointer;\n",
              "      display: none;\n",
              "      fill: #1967D2;\n",
              "      height: 32px;\n",
              "      padding: 0 0 0 0;\n",
              "      width: 32px;\n",
              "    }\n",
              "\n",
              "    .colab-df-convert:hover {\n",
              "      background-color: #E2EBFA;\n",
              "      box-shadow: 0px 1px 2px rgba(60, 64, 67, 0.3), 0px 1px 3px 1px rgba(60, 64, 67, 0.15);\n",
              "      fill: #174EA6;\n",
              "    }\n",
              "\n",
              "    .colab-df-buttons div {\n",
              "      margin-bottom: 4px;\n",
              "    }\n",
              "\n",
              "    [theme=dark] .colab-df-convert {\n",
              "      background-color: #3B4455;\n",
              "      fill: #D2E3FC;\n",
              "    }\n",
              "\n",
              "    [theme=dark] .colab-df-convert:hover {\n",
              "      background-color: #434B5C;\n",
              "      box-shadow: 0px 1px 3px 1px rgba(0, 0, 0, 0.15);\n",
              "      filter: drop-shadow(0px 1px 2px rgba(0, 0, 0, 0.3));\n",
              "      fill: #FFFFFF;\n",
              "    }\n",
              "  </style>\n",
              "\n",
              "    <script>\n",
              "      const buttonEl =\n",
              "        document.querySelector('#df-feaaecf4-42b9-4f08-b0b7-feab658b6607 button.colab-df-convert');\n",
              "      buttonEl.style.display =\n",
              "        google.colab.kernel.accessAllowed ? 'block' : 'none';\n",
              "\n",
              "      async function convertToInteractive(key) {\n",
              "        const element = document.querySelector('#df-feaaecf4-42b9-4f08-b0b7-feab658b6607');\n",
              "        const dataTable =\n",
              "          await google.colab.kernel.invokeFunction('convertToInteractive',\n",
              "                                                    [key], {});\n",
              "        if (!dataTable) return;\n",
              "\n",
              "        const docLinkHtml = 'Like what you see? Visit the ' +\n",
              "          '<a target=\"_blank\" href=https://colab.research.google.com/notebooks/data_table.ipynb>data table notebook</a>'\n",
              "          + ' to learn more about interactive tables.';\n",
              "        element.innerHTML = '';\n",
              "        dataTable['output_type'] = 'display_data';\n",
              "        await google.colab.output.renderOutput(dataTable, element);\n",
              "        const docLink = document.createElement('div');\n",
              "        docLink.innerHTML = docLinkHtml;\n",
              "        element.appendChild(docLink);\n",
              "      }\n",
              "    </script>\n",
              "  </div>\n",
              "\n",
              "\n",
              "<div id=\"df-7c4ab89b-07b6-4202-8d4c-f13fd54604c0\">\n",
              "  <button class=\"colab-df-quickchart\" onclick=\"quickchart('df-7c4ab89b-07b6-4202-8d4c-f13fd54604c0')\"\n",
              "            title=\"Suggest charts\"\n",
              "            style=\"display:none;\">\n",
              "\n",
              "<svg xmlns=\"http://www.w3.org/2000/svg\" height=\"24px\"viewBox=\"0 0 24 24\"\n",
              "     width=\"24px\">\n",
              "    <g>\n",
              "        <path d=\"M19 3H5c-1.1 0-2 .9-2 2v14c0 1.1.9 2 2 2h14c1.1 0 2-.9 2-2V5c0-1.1-.9-2-2-2zM9 17H7v-7h2v7zm4 0h-2V7h2v10zm4 0h-2v-4h2v4z\"/>\n",
              "    </g>\n",
              "</svg>\n",
              "  </button>\n",
              "\n",
              "<style>\n",
              "  .colab-df-quickchart {\n",
              "      --bg-color: #E8F0FE;\n",
              "      --fill-color: #1967D2;\n",
              "      --hover-bg-color: #E2EBFA;\n",
              "      --hover-fill-color: #174EA6;\n",
              "      --disabled-fill-color: #AAA;\n",
              "      --disabled-bg-color: #DDD;\n",
              "  }\n",
              "\n",
              "  [theme=dark] .colab-df-quickchart {\n",
              "      --bg-color: #3B4455;\n",
              "      --fill-color: #D2E3FC;\n",
              "      --hover-bg-color: #434B5C;\n",
              "      --hover-fill-color: #FFFFFF;\n",
              "      --disabled-bg-color: #3B4455;\n",
              "      --disabled-fill-color: #666;\n",
              "  }\n",
              "\n",
              "  .colab-df-quickchart {\n",
              "    background-color: var(--bg-color);\n",
              "    border: none;\n",
              "    border-radius: 50%;\n",
              "    cursor: pointer;\n",
              "    display: none;\n",
              "    fill: var(--fill-color);\n",
              "    height: 32px;\n",
              "    padding: 0;\n",
              "    width: 32px;\n",
              "  }\n",
              "\n",
              "  .colab-df-quickchart:hover {\n",
              "    background-color: var(--hover-bg-color);\n",
              "    box-shadow: 0 1px 2px rgba(60, 64, 67, 0.3), 0 1px 3px 1px rgba(60, 64, 67, 0.15);\n",
              "    fill: var(--button-hover-fill-color);\n",
              "  }\n",
              "\n",
              "  .colab-df-quickchart-complete:disabled,\n",
              "  .colab-df-quickchart-complete:disabled:hover {\n",
              "    background-color: var(--disabled-bg-color);\n",
              "    fill: var(--disabled-fill-color);\n",
              "    box-shadow: none;\n",
              "  }\n",
              "\n",
              "  .colab-df-spinner {\n",
              "    border: 2px solid var(--fill-color);\n",
              "    border-color: transparent;\n",
              "    border-bottom-color: var(--fill-color);\n",
              "    animation:\n",
              "      spin 1s steps(1) infinite;\n",
              "  }\n",
              "\n",
              "  @keyframes spin {\n",
              "    0% {\n",
              "      border-color: transparent;\n",
              "      border-bottom-color: var(--fill-color);\n",
              "      border-left-color: var(--fill-color);\n",
              "    }\n",
              "    20% {\n",
              "      border-color: transparent;\n",
              "      border-left-color: var(--fill-color);\n",
              "      border-top-color: var(--fill-color);\n",
              "    }\n",
              "    30% {\n",
              "      border-color: transparent;\n",
              "      border-left-color: var(--fill-color);\n",
              "      border-top-color: var(--fill-color);\n",
              "      border-right-color: var(--fill-color);\n",
              "    }\n",
              "    40% {\n",
              "      border-color: transparent;\n",
              "      border-right-color: var(--fill-color);\n",
              "      border-top-color: var(--fill-color);\n",
              "    }\n",
              "    60% {\n",
              "      border-color: transparent;\n",
              "      border-right-color: var(--fill-color);\n",
              "    }\n",
              "    80% {\n",
              "      border-color: transparent;\n",
              "      border-right-color: var(--fill-color);\n",
              "      border-bottom-color: var(--fill-color);\n",
              "    }\n",
              "    90% {\n",
              "      border-color: transparent;\n",
              "      border-bottom-color: var(--fill-color);\n",
              "    }\n",
              "  }\n",
              "</style>\n",
              "\n",
              "  <script>\n",
              "    async function quickchart(key) {\n",
              "      const quickchartButtonEl =\n",
              "        document.querySelector('#' + key + ' button');\n",
              "      quickchartButtonEl.disabled = true;  // To prevent multiple clicks.\n",
              "      quickchartButtonEl.classList.add('colab-df-spinner');\n",
              "      try {\n",
              "        const charts = await google.colab.kernel.invokeFunction(\n",
              "            'suggestCharts', [key], {});\n",
              "      } catch (error) {\n",
              "        console.error('Error during call to suggestCharts:', error);\n",
              "      }\n",
              "      quickchartButtonEl.classList.remove('colab-df-spinner');\n",
              "      quickchartButtonEl.classList.add('colab-df-quickchart-complete');\n",
              "    }\n",
              "    (() => {\n",
              "      let quickchartButtonEl =\n",
              "        document.querySelector('#df-7c4ab89b-07b6-4202-8d4c-f13fd54604c0 button');\n",
              "      quickchartButtonEl.style.display =\n",
              "        google.colab.kernel.accessAllowed ? 'block' : 'none';\n",
              "    })();\n",
              "  </script>\n",
              "</div>\n",
              "\n",
              "    </div>\n",
              "  </div>\n"
            ],
            "application/vnd.google.colaboratory.intrinsic+json": {
              "type": "dataframe",
              "variable_name": "trigram_prob_df",
              "summary": "{\n  \"name\": \"trigram_prob_df\",\n  \"rows\": 8069,\n  \"fields\": [\n    {\n      \"column\": \"Sentence\",\n      \"properties\": {\n        \"dtype\": \"object\",\n        \"semantic_type\": \"\",\n        \"description\": \"\"\n      }\n    },\n    {\n      \"column\": \"Log Probability\",\n      \"properties\": {\n        \"dtype\": \"number\",\n        \"std\": 126.10199050735153,\n        \"min\": -1002.8722792017475,\n        \"max\": 30.497483642786793,\n        \"num_unique_values\": 6739,\n        \"samples\": [\n          -12.144848271388533,\n          -145.78060451280228,\n          -32.34622549242391\n        ],\n        \"semantic_type\": \"\",\n        \"description\": \"\"\n      }\n    }\n  ]\n}"
            }
          },
          "metadata": {},
          "execution_count": 23
        }
      ]
    }
  ]
}