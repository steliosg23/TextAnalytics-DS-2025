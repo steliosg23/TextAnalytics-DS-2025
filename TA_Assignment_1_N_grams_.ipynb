{
  "nbformat": 4,
  "nbformat_minor": 0,
  "metadata": {
    "colab": {
      "provenance": [],
      "include_colab_link": true
    },
    "kernelspec": {
      "name": "python3",
      "display_name": "Python 3"
    },
    "language_info": {
      "name": "python"
    }
  },
  "cells": [
    {
      "cell_type": "markdown",
      "metadata": {
        "id": "view-in-github",
        "colab_type": "text"
      },
      "source": [
        "<a href=\"https://colab.research.google.com/github/steliosg23/TextAnalytics-DS-2025/blob/main/TA_Assignment_1_N_grams_.ipynb\" target=\"_parent\"><img src=\"https://colab.research.google.com/assets/colab-badge.svg\" alt=\"Open In Colab\"/></a>"
      ]
    },
    {
      "cell_type": "code",
      "execution_count": null,
      "metadata": {
        "id": "cBeJGofPHRew"
      },
      "outputs": [],
      "source": [
        "import nltk.corpus"
      ]
    },
    {
      "cell_type": "markdown",
      "source": [
        "# Ο Γιαγκος είναι κούκλος\n",
        "XXAXAXAXAXAX"
      ],
      "metadata": {
        "id": "pO4o_t0qISQ8"
      }
    },
    {
      "cell_type": "code",
      "source": [],
      "metadata": {
        "id": "VescDwO4IKJe"
      },
      "execution_count": null,
      "outputs": []
    }
  ]
}